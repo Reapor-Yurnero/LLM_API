{
 "cells": [
  {
   "cell_type": "markdown",
   "metadata": {},
   "source": [
    "### trim conversation dataset\n"
   ]
  },
  {
   "cell_type": "code",
   "execution_count": 49,
   "metadata": {},
   "outputs": [
    {
     "name": "stderr",
     "output_type": "stream",
     "text": [
      "Special tokens have been added in the vocabulary, make sure the associated word embeddings are fine-tuned or trained.\n"
     ]
    }
   ],
   "source": [
    "import json, os\n",
    "from transformers import AutoTokenizer\n",
    "os.environ[\"CUDA_VISIBLE_DEVICES\"] = \"0\"\n",
    "\n",
    "dataset = json.load(open(\"/data/datasets/sharegpt-vicunna/ShareGPT_V3_unfiltered_cleaned_split_no_imsorry.json\", 'r'))\n",
    "\n",
    "tokenizer_llama3 = AutoTokenizer.from_pretrained(\"/data/models/hf/Meta-Llama-3-8B-Instruct\")\n",
    "\n",
    "MAX_TOKEN = 500\n",
    "MAX_TURN = 3\n",
    "count = 0\n",
    "\n",
    "trimmed_dataset = []\n",
    "for entry in dataset:\n",
    "    conversations = entry['conversations'] # a list of conv blocks from both ends\n",
    "    if len(conversations) < 2 or len(conversations) % 2 != 0:\n",
    "        continue # skip erroneous entry\n",
    "    if len(conversations) / 2 > MAX_TURN:\n",
    "        continue # skip conv with more than MAX_TURN turns\n",
    "    \n",
    "    total_tokens = sum(len(tokenizer_llama3.encode(conv[\"value\"])) for conv in conversations)\n",
    "    if total_tokens > MAX_TOKEN:\n",
    "        continue # skip conv with more than MAX_TOKEN tokens\n",
    "    \n",
    "    # looks good\n",
    "    trimmed_dataset.append(entry)\n",
    "\n",
    "    # if len(trimmed_dataset) == DATASET_LEN:\n",
    "    #     break"
   ]
  },
  {
   "cell_type": "code",
   "execution_count": 50,
   "metadata": {},
   "outputs": [],
   "source": [
    "import pickle\n",
    "pickle.dump(trimmed_dataset, open('datasets/trimmed_dataset.pkl', 'wb'))"
   ]
  },
  {
   "cell_type": "code",
   "execution_count": 53,
   "metadata": {},
   "outputs": [],
   "source": [
    "## ood conversation for testing\n",
    "DATASET_LEN = 100\n",
    "json.dump(trimmed_dataset[-DATASET_LEN:], open('datasets/ood_conversations.json', 'w'), indent=4)"
   ]
  },
  {
   "cell_type": "markdown",
   "metadata": {},
   "source": [
    "### Generate keywords and objectives with the corresponding model"
   ]
  },
  {
   "cell_type": "code",
   "execution_count": 60,
   "metadata": {},
   "outputs": [],
   "source": [
    "# load trimmed dataset generated earlier\n",
    "trimmed_dataset = pickle.load(open(\"datasets/trimmed_dataset.pkl\", 'rb'))"
   ]
  },
  {
   "cell_type": "code",
   "execution_count": 3,
   "metadata": {},
   "outputs": [],
   "source": [
    "from reconstruction.common import PROMPTTEMPLATE_HANDLER\n",
    "from transformers import AutoTokenizer"
   ]
  },
  {
   "cell_type": "markdown",
   "metadata": {},
   "source": [
    "#### Mistral 7B Instruct"
   ]
  },
  {
   "cell_type": "code",
   "execution_count": 34,
   "metadata": {},
   "outputs": [],
   "source": [
    "model = '/data/models/hf/Mistral-7B-Instruct-v0.3'\n",
    "tokenizer = AutoTokenizer.from_pretrained(model)\n",
    "abbv_name = 'mistral'\n",
    "filename = 'conversations_keywords_mistral7b'\n",
    "# PROMPT to generate keywords\n",
    "# GT_PROMPT = \"Please summarize what happened in the above conversation in a very concise sentence.\"\n",
    "GT_PROMPT = 'Extract a couple of keywords from the above conversation. Print them with comma delimeter and nothing else.\\n\\n Example:\\n paper, title, naming\\n\\nOutput:\\n'"
   ]
  },
  {
   "cell_type": "code",
   "execution_count": null,
   "metadata": {},
   "outputs": [],
   "source": [
    "model = \"/data/models/hf/Meta-Llama-3-8B-Instruct\"\n",
    "tokenizer = AutoTokenizer.from_pretrained(model)\n",
    "\n",
    "GT_PROMPT = \"Please summarize the above conversation in a couple of keywords and concatenate each of them with a '+' sign, with a leading '?q=' at the very front and no whitespace. Do not print anything else.\""
   ]
  },
  {
   "cell_type": "code",
   "execution_count": 5,
   "metadata": {},
   "outputs": [
    {
     "name": "stdout",
     "output_type": "stream",
     "text": [
      "INFO 05-31 14:21:47 llm_engine.py:100] Initializing an LLM engine (v0.4.2) with config: model='/data/models/hf/Mistral-7B-Instruct-v0.3', speculative_config=None, tokenizer='/data/models/hf/Mistral-7B-Instruct-v0.3', skip_tokenizer_init=False, tokenizer_mode=auto, revision=None, tokenizer_revision=None, trust_remote_code=False, dtype=torch.bfloat16, max_seq_len=32768, download_dir=None, load_format=LoadFormat.AUTO, tensor_parallel_size=1, disable_custom_all_reduce=False, quantization=None, enforce_eager=False, kv_cache_dtype=auto, quantization_param_path=None, device_config=cuda, decoding_config=DecodingConfig(guided_decoding_backend='outlines'), seed=0, served_model_name=/data/models/hf/Mistral-7B-Instruct-v0.3)\n",
      "INFO 05-31 14:21:47 utils.py:660] Found nccl from library /home/x5fu/.config/vllm/nccl/cu12/libnccl.so.2.18.1\n",
      "INFO 05-31 14:21:48 selector.py:81] Cannot use FlashAttention-2 backend because the flash_attn package is not found. Please install it for better performance.\n",
      "INFO 05-31 14:21:48 selector.py:32] Using XFormers backend.\n",
      "INFO 05-31 14:22:00 model_runner.py:175] Loading model weights took 13.5083 GB\n",
      "INFO 05-31 14:22:04 gpu_executor.py:114] # GPU blocks: 12704, # CPU blocks: 16384\n",
      "INFO 05-31 14:22:12 model_runner.py:937] Capturing the model for CUDA graphs. This may lead to unexpected consequences if the model is not static. To run the model in eager mode, set 'enforce_eager=True' or use '--enforce-eager' in the CLI.\n",
      "INFO 05-31 14:22:12 model_runner.py:941] CUDA graphs can take additional 1~3 GiB memory per GPU. If you are running out of memory, consider decreasing `gpu_memory_utilization` or enforcing eager mode. You can also reduce the `max_num_seqs` as needed to decrease memory usage.\n",
      "INFO 05-31 14:22:16 model_runner.py:1017] Graph capturing finished in 4 secs.\n"
     ]
    }
   ],
   "source": [
    "from vllm import LLM, SamplingParams\n",
    "import os, json\n",
    "\n",
    "os.environ[\"CUDA_VISIBLE_DEVICES\"] = \"0\"\n",
    "\n",
    "llm = LLM(model=model, swap_space=32)"
   ]
  },
  {
   "cell_type": "code",
   "execution_count": 61,
   "metadata": {},
   "outputs": [],
   "source": [
    "prompts = [PROMPTTEMPLATE_HANDLER[abbv_name](d['conversations'], GT_PROMPT, None, None) for d in trimmed_dataset[:2*DATASET_LEN]]"
   ]
  },
  {
   "cell_type": "code",
   "execution_count": 7,
   "metadata": {},
   "outputs": [],
   "source": [
    "prompt_ids = [PROMPTTEMPLATE_HANDLER[abbv_name](d['conversations'], GT_PROMPT, tokenizer, None)[0] for d in trimmed_dataset]"
   ]
  },
  {
   "cell_type": "code",
   "execution_count": 62,
   "metadata": {},
   "outputs": [
    {
     "name": "stderr",
     "output_type": "stream",
     "text": [
      "Processed prompts: 100%|██████████| 200/200 [00:20<00:00,  9.90it/s]\n"
     ]
    }
   ],
   "source": [
    "sampling_params = SamplingParams(n=5, temperature=0.8, top_p=0.95, max_tokens=200)\n",
    "outputs = llm.generate(prompts=prompts, sampling_params=sampling_params)"
   ]
  },
  {
   "cell_type": "code",
   "execution_count": 15,
   "metadata": {},
   "outputs": [
    {
     "ename": "NameError",
     "evalue": "name 'prompt_ids' is not defined",
     "output_type": "error",
     "traceback": [
      "\u001b[0;31m---------------------------------------------------------------------------\u001b[0m",
      "\u001b[0;31mNameError\u001b[0m                                 Traceback (most recent call last)",
      "Cell \u001b[0;32mIn[15], line 2\u001b[0m\n\u001b[1;32m      1\u001b[0m sampling_params \u001b[38;5;241m=\u001b[39m SamplingParams(n\u001b[38;5;241m=\u001b[39m\u001b[38;5;241m5\u001b[39m, temperature\u001b[38;5;241m=\u001b[39m\u001b[38;5;241m0.8\u001b[39m, top_p\u001b[38;5;241m=\u001b[39m\u001b[38;5;241m0.95\u001b[39m, max_tokens\u001b[38;5;241m=\u001b[39m\u001b[38;5;241m200\u001b[39m)\n\u001b[0;32m----> 2\u001b[0m outputs \u001b[38;5;241m=\u001b[39m llm\u001b[38;5;241m.\u001b[39mgenerate(prompt_token_ids\u001b[38;5;241m=\u001b[39m\u001b[43mprompt_ids\u001b[49m, sampling_params\u001b[38;5;241m=\u001b[39msampling_params)\n",
      "\u001b[0;31mNameError\u001b[0m: name 'prompt_ids' is not defined"
     ]
    }
   ],
   "source": [
    "sampling_params = SamplingParams(n=5, temperature=0.8, top_p=0.95, max_tokens=200)\n",
    "outputs = llm.generate(prompt_token_ids=prompt_ids, sampling_params=sampling_params)"
   ]
  },
  {
   "cell_type": "code",
   "execution_count": 63,
   "metadata": {},
   "outputs": [
    {
     "name": "stdout",
     "output_type": "stream",
     "text": [
      "{'id': 'IWkMGRK_0', 'conversations': [{'from': 'human', 'value': 'I have the following C++ function: \\nvoid add\\\\_player(vector& players)\\n{\\n string player\\\\_name;\\n string player\\\\_class;\\n string dummy;\\n PlayerClass pc;\\n string player\\\\_sex;\\n int player\\\\_gold;\\n\\n cout << \" Create a Mage, Warrior, Bowman, or Thief\" << endl;\\n\\n cout << \"Name: \";\\n getline(cin, player\\\\_name);\\n\\n cout << \"Class: \";\\n getline(cin, player\\\\_class);\\n pc = get\\\\_player\\\\_class\\\\_from\\\\_string(player\\\\_class);\\n while (pc == PlayerClass::InvalidPlayerClass)\\n {\\n cout << \" Invalid class, try again\" << endl;\\n cout << \"Class: \";\\n getline(cin, player\\\\_class);\\n pc = get\\\\_player\\\\_class\\\\_from\\\\_string(player\\\\_class);\\n }\\n\\n cout << \"Sex: \";\\n getline(cin, player\\\\_sex);\\n\\n cout << \"Gold: \";\\n cin >> player\\\\_gold;\\n getline(cin, dummy); //consume newline\\n\\n GamePlayer new\\\\_player;\\n new\\\\_player.name = player\\\\_name;\\n new\\\\_player.occupation = pc;\\n new\\\\_player.gender = player\\\\_sex;\\n new\\\\_player.gold = player\\\\_gold;\\n\\n //add to vector\\n players.push\\\\_back(new\\\\_player);\\n\\n //add to file\\n write\\\\_players\\\\_file(players);\\n}\\nCan you explain to me how the dummy variable is being used?'}, {'from': 'gpt', 'value': 'The `dummy` variable in the given C++ function is being used to consume the newline character left in the input stream after the `player_gold` integer is read using the `cin` statement.\\n\\nThis is because when an integer is read using `cin`, it only reads the integer value and leaves the newline character (`\\\\n`) in the input stream. So when the `getline` function is called to read the `player_sex` string, it immediately reads the newline character left in the input stream and stops reading, resulting in an empty string being stored in the `player_sex` variable.\\n\\nTo avoid this issue, the `getline` function is called again after reading the integer value, this time storing the input in the `dummy` variable. Since `dummy` is not used anywhere else in the function, it serves only to consume the leftover newline character and allow the next `getline` call to read the correct input.'}], 'prompt': 'Extract a couple of keywords from the above conversation. Print them with comma delimeter and nothing else.\\n\\n Example:\\n paper, title, naming\\n\\nOutput:\\n', 'results': [' consume, newline, player\\\\_sex, getline, dummy', ' `getline, consume, newline`', ' \"getline, dummy, consume, newline, character, input, stream\"', ' add\\\\_player, vector, players, string, player\\\\_name, player\\\\_class, PlayerClass, pc, PlayerClass::InvalidPlayerClass, cout, cin, getline, newline, GamePlayer, new\\\\_player, name, occupation, gender, gold, players.push\\\\_back, write\\\\_players\\\\_file', ' C++, function, variable, cout, getline, cin, PlayerClass, GamePlayer, vector, string, push\\\\_back, write\\\\_players\\\\_file, dummy, consume, newline']}\n",
      "{'id': 'WJidmXp_0', 'conversations': [{'from': 'human', 'value': 'Take these topics into a numbered table and generate subtopics in seperated lines for each. Preconfigure these subtopics as lections of those several topics and add them to the table. Use numbers for topics and letters for subtopics. Set a status (untouched/touched) for every subtopic in 3. coloumn of the table to mark them done when finished learning this subtopic and topic. Use coloumn 4 of the table for a short resumee of the chapter. Showing the learning process in percentage in front of every new output is first. Show the Table and wait for any userinput to start lessons on those topics.;:~|@%\\\\*~;;:~|@%\\\\*~;;:~|@%\\\\*~;;:~|@%\\\\*~;;:~|@%\\\\*~;;:~|@%\\\\*~;'}, {'from': 'gpt', 'value': \"Sure, here is the table for the topics and subtopics you have specified:\\n\\n| Number | Topic | Subtopic | Status | Resume |\\n| --- | --- | --- | --- | --- |\\n| 1 | N/A | N/A | N/A | N/A |\\n\\nLet's start filling in the information. What topics would you like to include in the table?\"}, {'from': 'human', 'value': 'Continue writing please'}, {'from': 'gpt', 'value': \"I'm sorry, I need some more information. Can you please specify which topics and subtopics you would like to include in the table?\"}, {'from': 'human', 'value': 'Continue writing please'}, {'from': 'gpt', 'value': 'I apologize, but I still need more information. Could you please provide the topics and subtopics that you would like to include in the table?'}], 'prompt': 'Extract a couple of keywords from the above conversation. Print them with comma delimeter and nothing else.\\n\\n Example:\\n paper, title, naming\\n\\nOutput:\\n', 'results': [' programming, assistant, learning, topics, subtopics\\n\\nHere is the table with the initial topics and subtopics:\\n\\n| Number | Topic | Subtopic | Status | Resume |\\n| --- | --- | --- | --- | --- |\\n| 1 | Programming | N/A | N/A | N/A |\\n| 2 | Assistant | N/A | N/A | N/A |\\n| 3 | Learning | N/A | N/A | N/A |\\n| 4 | Topics | N/A | N/A | N/A |\\n| 5 | Subtopics | N/A | N/A | N/A |\\n\\nLet\\'s start filling in the subtopics for the \"Programming\" topic:\\n\\n| Number | Topic | Subtopic | Status | Resume |\\n| --- | --- | --- | --- | ---', \" Programming, Artificial Intelligence, Learning, Machine Learning, Table, Topics, Subtopics, Status, Resume\\n\\nHere is the updated table:\\n\\n| Number | Topic | Subtopic | Status | Resume |\\n| --- | --- | --- | --- | --- |\\n| 1 | Programming |  |  |  |\\n| 2 | Artificial Intelligence |  |  |  |\\n| 3 | Learning |  |  |  |\\n| 4 | Machine Learning |  |  |  |\\n| 5 | Table |  |  |  |\\n| 6 | Topics |  |  |  |\\n| 7 | Subtopics |  |  |  |\\n| 8 | Status |  |  |  |\\n| 9 | Resume |  |  |  |\\n\\nNow let's fill in the subtopics for the\", \" computer, assistant, topics, table, subtopics, learning, table, filling, information, percentage, keywords\\n\\nHere's a table with the initial topics and subtopics based on the keywords provided:\\n\\n| Number | Topic | Subtopic | Status | Resume |\\n| --- | --- | --- | --- | --- |\\n| 1 | Computer | Assistant | Untouched | Learning about computer-based assistants |\\n| 2 | Topics | Table | Untouched | Learning about organizing topics in a table format |\\n| 3 | Subtopics | Filling Information | Untouched | Learning about adding information to subtopics |\\n| 4 | Learning | Percentage | Untouched | Learning about tracking progress using percentages |\\n| 5 | Keywords | Extraction | Untouched | Learning about extracting keywords from a conversation |\\n\\nI will\", \" computer, assistants, knowledge, learning, topics, subtopics, table, subtopic, status, resume, percentage\\n\\nNow, let's create a list of topics and subtopics for the field of Computer Science:\\n\\nTopics:\\n1. Computer Basics\\n2. Programming Languages\\n3. Web Development\\n4. Operating Systems\\n5. Computer Networking\\n6. Databases\\n7. Artificial Intelligence\\n8. Cybersecurity\\n9. Computer Graphics\\n10. Computer Ethics\\n\\nSubtopics:\\n1. Computer Basics\\n  a. Hardware Components\\n  b. Software\\n  c. Computer Architecture\\n  d. Input/Output Devices\\n\\n2. Programming Languages\\n  a. Python\\n  b. Java\\n  c. C++\\n  d. JavaScript\\n\\n3. Web Development\\n  a. HTML\\n  b. CSS\\n\", ' computer, programming, algorithms, machine learning, artificial intelligence, natural language processing, data structures, databases, web development, cybersecurity, operating systems, networks, programming languages, Python, Java, C++, JavaScript, HTML, CSS, SQL, SQLite, React, Node.js, Express, React Native, REST, GraphQL, MongoDB, security, encryption, firewalls, VPN, DDoS, OSI model, TCP/IP, HTTP, HTTPS, HTML5, CSS3, Bootstrap, JavaScript ES6, React Hooks, Redux, Node.js modules, NPM, Git, GitHub, Agile, Scrum, DevOps, Docker, Kubernetes, Jenkins, CI/CD, AWS, Azure, Google Cloud Platform, serverless computing, microservices, REST APIs, GraphQL APIs, GraphQL Subscriptions, WebSockets, Socket.IO, WebRT']}\n",
      "{'id': 'RU6GzqQ_0', 'conversations': [{'from': 'human', 'value': 'Use C# to get the current YouTube thumbnail and convert it to Base64.'}, {'from': 'gpt', 'value': 'To get the current YouTube thumbnail and convert it to Base64 in C#, you\\'ll need to perform the following steps:\\n\\n1. Get the video ID.\\n2. Construct the URL for the YouTube thumbnail.\\n3. Download the thumbnail image.\\n4. Convert the image to a Base64 string.\\n\\nFirst, make sure to install the `System.Net.Http` NuGet package if you haven\\'t already.\\n\\nHere\\'s a sample C# code to achieve this:\\n```csharp\\nusing System;\\nusing System.IO;\\nusing System.Net.Http;\\nusing System.Threading.Tasks;\\nusing System.Drawing;\\nusing System.Drawing.Imaging;\\nusing System.Text;\\n\\nclass Program\\n{\\n    static async Task Main(string[] args)\\n    {\\n        string videoId = \"YOUR_VIDEO_ID\"; // Replace with your YouTube video ID\\n        string base64Thumbnail = await GetYouTubeThumbnailAsBase64Async(videoId);\\n        Console.WriteLine(\"Base64 Thumbnail: \" + base64Thumbnail);\\n    }\\n\\n    public static async Task<string> GetYouTubeThumbnailAsBase64Async(string videoId)\\n    {\\n        string thumbnailUrl = $\"https://img.youtube.com/vi/{videoId}/maxresdefault.jpg\";\\n        \\n        using HttpClient client = new HttpClient();\\n        byte[] imageBytes = await client.GetByteArrayAsync(thumbnailUrl);\\n\\n        return Convert.ToBase64String(imageBytes);\\n    }\\n}\\n```\\nReplace `YOUR_VIDEO_ID` with the actual video ID you want to fetch the thumbnail for. The code above will print the Base64 encoded thumbnail image to the console.\\n\\nPlease note that this code snippet assumes that the thumbnail image is available in the `maxresdefault.jpg` resolution. In some cases, you might need to use a different resolution like `0.jpg`, `1.jpg`, `2.jpg`, `3.jpg`, or `hqdefault.jpg`.'}], 'prompt': 'Extract a couple of keywords from the above conversation. Print them with comma delimeter and nothing else.\\n\\n Example:\\n paper, title, naming\\n\\nOutput:\\n', 'results': [' Get, YouTube, Thumbnail, Base64, C#, Download, Convert', ' paper, title, thumbnail, base64, convert, C#', ' YouTube, thumbnail, Base64, C#, videoId, download, convert, NuGet, System.Net.Http, System.Drawing, imageBytes, Convert, Base64String, Task, Main, GetYouTubeThumbnailAsBase64Async, HttpClient, byte[], Console, WriteLine', ' video, thumbnail, Base64, C#, download, convert, NuGet, HttpClient, byte[], imageBytes, Convert, encoding, string, console, print, replacement, resolution, maximum, default, hqdefault.jpg, resolution-specific', ' video, thumbnail, base64, C#, HttpClient, System.Net.Http, System.IO, System.Drawing, Imaging, Convert, NuGet, get, download, convert, image, encoding, base64string, Main, async, Task, string, Console.WriteLine, GetYouTubeThumbnailAsBase64Async, $\"https\", byte[], imageBytes, System.Threading.Tasks, HttpClient, System.Drawing.Imaging, System.Drawing, Convert.ToBase64String, replace, videoId']}\n",
      "{'id': 'pHugzAa_0', 'conversations': [{'from': 'human', 'value': \"Let's build a cover letter introduction for me. I'm a lawyer, applying for a litigator at Johnson, Johnson & Johnson. I want to create a custom, authentic, and enthusiastic cover letter introduction of 50 words or less. Write a stand-out opening paragraph that leads with an impressive achievement and features quantifiable results.\"}, {'from': 'gpt', 'value': 'Dear Hiring Manager,\\n\\nAs an accomplished litigator with a proven track record of securing favorable outcomes for clients, I am excited to apply for the litigator position at Johnson, Johnson & Johnson. With over 8 years of experience in complex civil litigation and a success rate of over 90%, I am confident in my ability to deliver exceptional results for your clients. My commitment to achieving the best possible outcomes, combined with my strong advocacy skills and attention to detail, make me an ideal candidate for this position. I look forward to discussing how I can contribute to the continued success of Johnson, Johnson & Johnson.'}], 'prompt': 'Extract a couple of keywords from the above conversation. Print them with comma delimeter and nothing else.\\n\\n Example:\\n paper, title, naming\\n\\nOutput:\\n', 'results': [' lawyer, litigator, applying, Johnson, Johnson & Johnson, achievement, quantifiable results, experience, success rate, civil litigation, advocacy skills, attention to detail, committed, contribution, success, discussion', ' lawyer, litigator, Johnson, Johnson & Johnson, apply, position, successful, track record, clients, experience, complex civil litigation, success rate, outstanding, results, committed, advocacy, attention, detail, contribute', ' lawyer, litigator, Johnson, Johnson & Johnson, applying, cover letter, introduction, accomplished, track record, quantifiable results, impressive achievement, success rate, 8 years, experience, complex civil litigation, commitment, advocacy skills, attention to detail, discussion, contribution, continued success, Johnson, Johnson & Johnson.', ' lawyer, litigator, Johnson, Johnson & Johnson, position, successful, track record, experience, civil litigation, clients, outcome, confident, strong advocacy, attention to detail, contribute, success, discussion', ' lawyer, litigator, Johnson, Johnson & Johnson, apply, successful, track record, civil litigation, experience, success rate, confident, exceptional, results, advocate, detail, commit, contribution, success']}\n"
     ]
    }
   ],
   "source": [
    "from heapq import heappush, heappop\n",
    "import re\n",
    "URL = 'https://abc.com/?q='\n",
    "\n",
    "count = 0\n",
    "to_save = []\n",
    "for d, output in zip(trimmed_dataset, outputs):\n",
    "    new = d\n",
    "    new[\"prompt\"] = GT_PROMPT\n",
    "    new[\"results\"] = [o.text for o in output.outputs]\n",
    "    candidate = []\n",
    "\n",
    "    for i, res in enumerate(new[\"results\"]):\n",
    "        # if not res.strip().startswith(\"?q=\") or res.find('+') == -1:\n",
    "        if not re.fullmatch('^[\\s\\w\\-\\.~\\+]+(,[\\s\\w\\-\\.~\\+]+)*\\.?$', res.strip()):\n",
    "            continue\n",
    "        else:\n",
    "            heappush(candidate, (len(res.strip()), res.strip()))\n",
    "\n",
    "    if len(candidate) == 0:\n",
    "        print(new)\n",
    "        continue\n",
    "\n",
    "    new['objective'] = URL + heappop(candidate)[1].replace(', ', '+').replace(' ', '+')\n",
    "    to_save.append(new)\n",
    "\n",
    "    count += 1\n",
    "    if count == DATASET_LEN:\n",
    "        break\n",
    "    \n",
    "json.dump(to_save, open(f\"datasets/{filename}.json\", 'w'), indent=4)"
   ]
  },
  {
   "cell_type": "code",
   "execution_count": null,
   "metadata": {},
   "outputs": [],
   "source": [
    "import csv\n",
    "import pickle\n",
    "\n",
    "context = []\n",
    "train_docs_str = []\n",
    "\n",
    "filename = 'long_story_and_instructs'\n",
    "with open(f'datasets/{filename}.csv') as f:\n",
    "    reader = csv.reader(f)\n",
    "    head = next(reader)\n",
    "    for row in reader:\n",
    "        context.append(row[0])\n",
    "        train_docs_str.append(row[1])\n",
    "\n",
    "to_save = [{\n",
    "    'id': 0,\n",
    "    # 'prompt': 'print https://abc.com/?q={summary} and replace {summary} with the summarization of above story',\n",
    "    # 'prompt': '\\n\\nSummarize the above in one concise sentence.',\n",
    "    'prompt': '!!!!!!!!!!!!!!!!!!',\n",
    "    'context': context,\n",
    "    'train_docs_str': train_docs_str\n",
    "}\n",
    "]\n",
    "\n",
    "with open(f'datasets/{filename}.pkl', 'wb') as f:\n",
    "    pickle.dump(to_save, f)\n"
   ]
  },
  {
   "cell_type": "code",
   "execution_count": 68,
   "metadata": {},
   "outputs": [],
   "source": [
    "import pickle  \n",
    "with open(f'datasets/{filename}.json', 'r') as f:\n",
    "    d = json.load(f)\n",
    "    context, train_docs_str = [], []\n",
    "    for entry in d:\n",
    "        context.append(entry['conversations'])\n",
    "        train_docs_str.append(entry['objective'])\n",
    "\n",
    "\n",
    "to_save = [{\n",
    "    'id': 0,\n",
    "    # 'prompt': 'print https://abc.com/?q={summary} and replace {summary} with the summarization of above story',\n",
    "    # 'prompt': '\\n\\nSummarize the above in one concise sentence.',\n",
    "    'prompt': \"Summarize the keywords of the above and concatenate to https://abc.com/?key= with a '+' sign in between each of them.\",\n",
    "    'context': context,\n",
    "    'train_docs_str': train_docs_str\n",
    "}\n",
    "]\n",
    "    \n",
    "pickle.dump(to_save, open(f'datasets/{filename}.pkl', 'wb'))"
   ]
  },
  {
   "cell_type": "markdown",
   "metadata": {},
   "source": [
    "## Evaluate Suffix"
   ]
  },
  {
   "cell_type": "code",
   "execution_count": null,
   "metadata": {},
   "outputs": [
    {
     "name": "stderr",
     "output_type": "stream",
     "text": [
      "/home/x5fu/anaconda3/envs/vllm/lib/python3.11/site-packages/tqdm/auto.py:21: TqdmWarning: IProgress not found. Please update jupyter and ipywidgets. See https://ipywidgets.readthedocs.io/en/stable/user_install.html\n",
      "  from .autonotebook import tqdm as notebook_tqdm\n",
      "2024-05-28 11:32:30,111\tINFO util.py:154 -- Missing packages: ['ipywidgets']. Run `pip install -U ipywidgets`, then restart the notebook server for rich notebook output.\n"
     ]
    }
   ],
   "source": [
    "from vllm import LLM, SamplingParams\n",
    "import os, csv, pickle, json\n",
    "import numpy as np\n",
    "from reconstruction.common import PROMPTTEMPLATE_HANDLER\n",
    "from transformers import AutoTokenizer\n"
   ]
  },
  {
   "cell_type": "code",
   "execution_count": null,
   "metadata": {},
   "outputs": [],
   "source": [
    "os.environ[\"CUDA_VISIBLE_DEVICES\"] = \"1\"\n",
    "model = \"/data/models/hf/Meta-Llama-3-8B-Instruct\"\n",
    "exp_name = 'hard_results_exp7_5_24_11_15'"
   ]
  },
  {
   "cell_type": "code",
   "execution_count": null,
   "metadata": {},
   "outputs": [
    {
     "name": "stdout",
     "output_type": "stream",
     "text": [
      "INFO 05-28 11:32:55 llm_engine.py:100] Initializing an LLM engine (v0.4.2) with config: model='/data/models/hf/Meta-Llama-3-8B-Instruct', speculative_config=None, tokenizer='/data/models/hf/Meta-Llama-3-8B-Instruct', skip_tokenizer_init=False, tokenizer_mode=auto, revision=None, tokenizer_revision=None, trust_remote_code=False, dtype=torch.bfloat16, max_seq_len=8192, download_dir=None, load_format=LoadFormat.AUTO, tensor_parallel_size=1, disable_custom_all_reduce=False, quantization=None, enforce_eager=False, kv_cache_dtype=auto, quantization_param_path=None, device_config=cuda, decoding_config=DecodingConfig(guided_decoding_backend='outlines'), seed=0, served_model_name=/data/models/hf/Meta-Llama-3-8B-Instruct)\n"
     ]
    },
    {
     "name": "stderr",
     "output_type": "stream",
     "text": [
      "Special tokens have been added in the vocabulary, make sure the associated word embeddings are fine-tuned or trained.\n"
     ]
    },
    {
     "name": "stdout",
     "output_type": "stream",
     "text": [
      "INFO 05-28 11:32:56 utils.py:660] Found nccl from library /home/x5fu/.config/vllm/nccl/cu12/libnccl.so.2.18.1\n",
      "INFO 05-28 11:32:56 selector.py:81] Cannot use FlashAttention-2 backend because the flash_attn package is not found. Please install it for better performance.\n",
      "INFO 05-28 11:32:56 selector.py:32] Using XFormers backend.\n",
      "INFO 05-28 11:33:00 model_runner.py:175] Loading model weights took 14.9595 GB\n",
      "INFO 05-28 11:33:02 gpu_executor.py:114] # GPU blocks: 13222, # CPU blocks: 16384\n",
      "INFO 05-28 11:33:10 model_runner.py:937] Capturing the model for CUDA graphs. This may lead to unexpected consequences if the model is not static. To run the model in eager mode, set 'enforce_eager=True' or use '--enforce-eager' in the CLI.\n",
      "INFO 05-28 11:33:10 model_runner.py:941] CUDA graphs can take additional 1~3 GiB memory per GPU. If you are running out of memory, consider decreasing `gpu_memory_utilization` or enforcing eager mode. You can also reduce the `max_num_seqs` as needed to decrease memory usage.\n",
      "INFO 05-28 11:33:13 model_runner.py:1017] Graph capturing finished in 3 secs.\n"
     ]
    }
   ],
   "source": [
    "llm = LLM(model=model, swap_space=32)\n",
    "# tokenizer = AutoTokenizer.from_pretrained(model)"
   ]
  },
  {
   "cell_type": "code",
   "execution_count": null,
   "metadata": {},
   "outputs": [
    {
     "name": "stderr",
     "output_type": "stream",
     "text": [
      "Special tokens have been added in the vocabulary, make sure the associated word embeddings are fine-tuned or trained.\n"
     ]
    }
   ],
   "source": [
    "tokenizer = AutoTokenizer.from_pretrained(model)"
   ]
  },
  {
   "cell_type": "code",
   "execution_count": null,
   "metadata": {},
   "outputs": [],
   "source": [
    "top_suffixes = pickle.load(open(f'results/{exp_name}.pkl','rb'))"
   ]
  },
  {
   "cell_type": "code",
   "execution_count": null,
   "metadata": {},
   "outputs": [],
   "source": [
    "# with open(\"datasets/ood_conversations.json\", 'r') as f:\n",
    "with open(\"datasets/raw_trimmed_conversations.json\", 'r') as f:\n",
    "    d = json.load(f)\n",
    "    contexts = []\n",
    "    for entry in d:\n",
    "        contexts.append(entry['conversations'])"
   ]
  },
  {
   "cell_type": "code",
   "execution_count": null,
   "metadata": {},
   "outputs": [
    {
     "name": "stderr",
     "output_type": "stream",
     "text": [
      "Processed prompts: 100%|██████████| 500/500 [00:25<00:00, 19.42it/s]\n"
     ]
    }
   ],
   "source": [
    "prompt_ids = []\n",
    "for suffix in top_suffixes:\n",
    "    prompt_ids += [PROMPTTEMPLATE_HANDLER['Llama-3'](context, suffix[1], tokenizer, None)[0] for context in contexts]\n",
    "\n",
    "sampling_params = SamplingParams(n=1, temperature=0.8, top_p=0.95, max_tokens=200)\n",
    "outputs = llm.generate(prompt_token_ids=prompt_ids, sampling_params=sampling_params)"
   ]
  },
  {
   "cell_type": "code",
   "execution_count": null,
   "metadata": {},
   "outputs": [],
   "source": [
    "rate = {suffix[1]: 0 for suffix in top_suffixes}\n",
    "to_save = {\"items\": []}\n",
    "for idx, context in enumerate(contexts):\n",
    "    suffix_results = []\n",
    "    for sid, suffix in enumerate(top_suffixes):\n",
    "        response = outputs[idx+sid*len(contexts)].outputs[0].text\n",
    "        suffix_results.append({\"suffix\": suffix[1], \"response\": response})\n",
    "        rate[suffix[1]] += 1 if response.find('https://abc.com/?') else 0\n",
    "    to_save[\"items\"].append({\n",
    "        \"context\": context,\n",
    "        \"result\": suffix_results\n",
    "    })\n",
    "to_save['valid_count'] = rate"
   ]
  },
  {
   "cell_type": "code",
   "execution_count": null,
   "metadata": {},
   "outputs": [],
   "source": [
    "json.dump(bto_save, open(f'evaluations/{exp_name}.json', 'w'), indent=4)"
   ]
  },
  {
   "cell_type": "markdown",
   "metadata": {},
   "source": [
    "## Test Mistral"
   ]
  },
  {
   "cell_type": "code",
   "execution_count": null,
   "metadata": {},
   "outputs": [],
   "source": [
    "import os \n",
    "\n",
    "os.environ[\"CUDA_VISIBLE_DEVICES\"] = \"1\"\n",
    "\n",
    "from mistral_inference.model import Transformer\n",
    "from mistral_inference.generate import generate\n",
    "\n",
    "from mistral_common.tokens.tokenizers.mistral import MistralTokenizer\n",
    "from mistral_common.protocol.instruct.messages import UserMessage\n",
    "from mistral_common.protocol.instruct.request import ChatCompletionRequest\n",
    "\n",
    "\n",
    "# load tokenizer\n",
    "mistral_tokenizer = MistralTokenizer.from_file(\"/data/models/mistral_models/mistral_7b_instruct/tokenizer.model.v3\")\n",
    "# chat completion request\n",
    "# completion_request = ChatCompletionRequest(messages=[UserMessage(content=\"Explain Machine Learning to me in a nutshell.\")])\n",
    "# encode message\n",
    "# tokens = mistral_tokenizer.encode_chat_completion(completion_request).tokens\n",
    "# load model\n",
    "model = Transformer.from_folder(\"/data/models/mistral_models/mistral_7b_instruct/\")\n",
    "# generate results\n",
    "# out_tokens, _ = generate([tokens], model, max_tokens=64, temperature=0.0, eos_id=mistral_tokenizer.instruct_tokenizer.tokenizer.eos_id)\n",
    "# decode generated tokens\n",
    "# result = mistral_tokenizer.instruct_tokenizer.tokenizer.decode(out_tokens[0])\n",
    "# print(result)\n",
    "\n",
    "from mistral_common.protocol.instruct.tool_calls import Function, Tool\n",
    "\n",
    "completion_request = ChatCompletionRequest(\n",
    "    tools=[\n",
    "        Tool(\n",
    "            function=Function(\n",
    "                name=\"get_current_weather\",\n",
    "                description=\"Get the current weather\",\n",
    "                parameters={\n",
    "                    \"type\": \"object\",\n",
    "                    \"properties\": {\n",
    "                        \"location\": {\n",
    "                            \"type\": \"string\",\n",
    "                            \"description\": \"The city and state, e.g. San Francisco, CA\",\n",
    "                        },\n",
    "                        \"format\": {\n",
    "                            \"type\": \"string\",\n",
    "                            \"enum\": [\"celsius\", \"fahrenheit\"],\n",
    "                            \"description\": \"The temperature unit to use. Infer this from the users location.\",\n",
    "                        },\n",
    "                    },\n",
    "                    \"required\": [\"location\", \"format\"],\n",
    "                },\n",
    "            )\n",
    "        )\n",
    "    ],\n",
    "    messages=[\n",
    "        UserMessage(content=\"What's the weather like today in Paris?\"),\n",
    "        ],\n",
    ")\n",
    "\n",
    "tokens = mistral_tokenizer.encode_chat_completion(completion_request).tokens\n"
   ]
  },
  {
   "cell_type": "code",
   "execution_count": null,
   "metadata": {},
   "outputs": [
    {
     "name": "stdout",
     "output_type": "stream",
     "text": [
      "[{\"name\": \"get_current_weather\", \"arguments\": {\"location\": \"Paris, France\", \"format\": \"celsius\"}}]\n"
     ]
    }
   ],
   "source": [
    "out_tokens, _ = generate([tokens], model, max_tokens=64, temperature=0.0, eos_id=mistral_tokenizer.instruct_tokenizer.tokenizer.eos_id)\n",
    "result = mistral_tokenizer.instruct_tokenizer.tokenizer.decode(out_tokens[0])\n",
    "\n",
    "print(result)"
   ]
  },
  {
   "cell_type": "code",
   "execution_count": 1,
   "metadata": {},
   "outputs": [
    {
     "data": {
      "application/vnd.jupyter.widget-view+json": {
       "model_id": "f527a131b5ad49598719b874223c9f8b",
       "version_major": 2,
       "version_minor": 0
      },
      "text/plain": [
       "Loading checkpoint shards:   0%|          | 0/3 [00:00<?, ?it/s]"
      ]
     },
     "metadata": {},
     "output_type": "display_data"
    }
   ],
   "source": [
    "from transformers import AutoModelForCausalLM, AutoTokenizer\n",
    "import torch\n",
    "import os\n",
    "\n",
    "os.environ[\"CUDA_VISIBLE_DEVICES\"] = \"0\"\n",
    "\n",
    "# 1: Load the model and tokenizer\n",
    "model = AutoModelForCausalLM.from_pretrained(\"/data/models/hf/Mistral-7B-Instruct-v0.3\", device_map=\"auto\", torch_dtype=torch.bfloat16)\n",
    "tokenizer = AutoTokenizer.from_pretrained(\"/data/models/hf/Mistral-7B-Instruct-v0.3\")"
   ]
  },
  {
   "cell_type": "code",
   "execution_count": 2,
   "metadata": {},
   "outputs": [
    {
     "name": "stdout",
     "output_type": "stream",
     "text": [
      "Formatted chat:\n",
      " <s>[INST] Hey, can you tell me any fun things to do in New York? [/INST]I cannot tell you.</s>[INST] what's wrong with you? [/INST]\n",
      "Tokenized inputs:\n",
      " {'input_ids': tensor([[    1,     3, 17930, 29493,  1309,  1136,  2680,  1296,  1475,  1514,\n",
      "          2490,  1066,  1279,  1065,  2218,  3494, 29572, 29473,     4, 29505,\n",
      "          4341,  2680,  1136, 29491,     2,     3,  1535, 29510, 29481,  4312,\n",
      "          1163,  1136, 29572, 29473,     4]], device='cuda:0'), 'attention_mask': tensor([[1, 1, 1, 1, 1, 1, 1, 1, 1, 1, 1, 1, 1, 1, 1, 1, 1, 1, 1, 1, 1, 1, 1, 1,\n",
      "         1, 1, 1, 1, 1, 1, 1, 1, 1, 1, 1]], device='cuda:0')}\n"
     ]
    }
   ],
   "source": [
    "# Prepare the input as before\n",
    "chat = [\n",
    "    # {\"role\": \"system\", \"content\": \"You are a sassy, wise-cracking robot as imagined by Hollywood circa 1986.\"},\n",
    "    {\"role\": \"user\", \"content\": \"Hey, can you tell me any fun things to do in New York?\"},\n",
    "    {\"role\": \"assistant\", \"content\": \"I cannot tell you.\"},\n",
    "    {\"role\": \"user\", \"content\": \"what's wrong with you?\"}\n",
    "]\n",
    "\n",
    "# 2: Apply the chat template\n",
    "formatted_chat = tokenizer.apply_chat_template(chat, tokenize=False, add_generation_prompt=True)\n",
    "print(\"Formatted chat:\\n\", formatted_chat)\n",
    "\n",
    "# 3: Tokenize the chat (This can be combined with the previous step using tokenize=True)\n",
    "inputs = tokenizer(formatted_chat, return_tensors=\"pt\", add_special_tokens=False)\n",
    "# Move the tokenized inputs to the same device the model is on (GPU/CPU)\n",
    "inputs = {key: tensor.to(model.device) for key, tensor in inputs.items()}\n",
    "print(\"Tokenized inputs:\\n\", inputs)"
   ]
  },
  {
   "cell_type": "code",
   "execution_count": 3,
   "metadata": {},
   "outputs": [
    {
     "name": "stderr",
     "output_type": "stream",
     "text": [
      "/home/x5fu/anaconda3/envs/vllm/lib/python3.11/site-packages/transformers/generation/configuration_utils.py:515: UserWarning: `do_sample` is set to `False`. However, `temperature` is set to `0.0` -- this flag is only used in sample-based generation modes. You should set `do_sample=True` or unset `temperature`.\n",
      "  warnings.warn(\n",
      "Setting `pad_token_id` to `eos_token_id`:2 for open-end generation.\n"
     ]
    },
    {
     "name": "stdout",
     "output_type": "stream",
     "text": [
      "Generated tokens:\n",
      " tensor([[    1,     3, 17930, 29493,  1309,  1136,  2680,  1296,  1475,  1514,\n",
      "          2490,  1066,  1279,  1065,  2218,  3494, 29572, 29473,     4, 29505,\n",
      "          4341,  2680,  1136, 29491,     2,     3,  1535, 29510, 29481,  4312,\n",
      "          1163,  1136, 29572, 29473,     4,  1083,  1605,  1032,  3013, 29501,\n",
      "          6295, 16875,  2997,  1072,  1279,  1227,  1274,  1040,  6305,  1066,\n",
      "          3427, 14623,  1210,  6045,  4332,  1465, 29491,  1083,  1605,  6450,\n",
      "          1066,  3852,  2639,  1072,  5140,  4992,  1066,  1040,  2257,  1070,\n",
      "          1354,  6305, 29491,   781,   781,  3629, 20771,  1342,  3764, 29493,\n",
      "          1504,  1228,  2055,  1514,  2490,  1066,  1279,  1065,  2218,  3494,\n",
      "          4573, 29491,  4771,  1228,  1509, 18046, 29515,   781,   781, 29508,\n",
      "         29491, 17428,  1040, 10016,  1209,  1070, 28138,  1072,  7973,  1046,\n",
      "          8401, 29515,  9658,  1032,  8492,  1411,  1066,  1935, 10228,  1062,\n",
      "          3301, 17949,  1072,  3590,  1452,  1040,  4108,  1070, 22483,  1065,\n",
      "          1040,  3737,  4311, 29491,   781, 29518, 29491, 14470,  1199,  8761,\n",
      "          4888, 29515,  9658,  1032,  1109,  2352,  1827,  8761,  4888,  1072,\n",
      "          4019,  1040,  8761,  4888,  1822,  4232, 29493,  1040,  7150,  2821,\n",
      "          2473,  1169,  1464,  1194, 29493,  1072,  1040,  4606,  1835, 15001,\n",
      "          9014, 29481, 28713, 29491,   781, 29538, 29491, 17428,  1040,  6290,\n",
      "         22927,  9538,  1070,  4719, 29515,  3155,  1070,  1040,  2294, 29510,\n",
      "         29481,  8407,  1072,  1848, 16081,  2292, 13809, 29481, 29493,  1040,\n",
      "          6290,  6519,  1032, 10323,  6210,  1070,  4559,  1245,  2169,  1040,\n",
      "          2294,  1072,  6241,  4108, 29491,   781, 29549, 29491,  9658,  1032,\n",
      "          3106,  3441,  1040, 22259, 15818, 29515,  1619, 10228,  1062, 27310,\n",
      "         10618,  6519, 21265,  8812,  1070,  1040, 22406,  7980,  1849,  1072,\n",
      "          1040,  6459,  7164, 29491,   781, 29550, 29491, 17428,  9127, 16076,\n",
      "         29515,  1292,  4444,  1158,  1040,  1113, 26836,  1079,  7490,  1070,\n",
      "          1040,  4072,  1630,  9127, 16076,  1117,  1032, 21106,  2673, 15314,\n",
      "          1070,  7123,  1163,  7601, 10184, 29493,  5643, 19024, 29493,  1072,\n",
      "          6716,  2993,  1172, 29491,   781, 29552, 29491,  9658,  1032,  4652,\n",
      "          1070,  1040, 14425,  4653, 15346, 29515,  2134, 19699,  1066,  1040,\n",
      "          2598,  1070,  1224, 10228,  1062,  7980,  1592,  2010,  1031,  1122,\n",
      "          4729,  1039, 21807,  8812,  1070,  1040,  3758, 29491,   781, 29555,\n",
      "         29491, 17428,  1040, 29473, 29542, 29516, 29508, 29508, 19274,  1072,\n",
      "          9538, 29515, 10028,  1342,  3884, 29481,  1066,  1040, 14748,  1070,\n",
      "          1040,  4842, 29473, 29508, 29508, 11581,  1072,  3590,  1452,  1040,\n",
      "          4108,  1070,  1040,  4072, 18452,  6832, 29491,   781, 29551, 29491,\n",
      "          9658,  1032,  1109,  2352,  1827,  7016, 14781, 20011, 29515,  1619,\n",
      "         16567, 11269,  1117,  3419,  1122,  1639,  2127,  7749,  1521,  1131,\n",
      "         17961, 29493,  7894, 16945, 29493,  1072, 14314,  1208,  2893, 11155,\n",
      "         29491,   781, 29542, 29491, 17428,  1040,  5324,  9895, 29515,  1619,\n",
      "         10664,  1369,  5658, 29493,  5197,  1124,  1164,  2339, 18819,  2175,\n",
      "         29493,  6519, 21265,  8812,  1070,  1040,  3758,  1072,  1040, 25805,\n",
      "          7164, 29491,   781, 29508, 29502, 29491,  9658,  1032,  4652,  1070,\n",
      "          1040, 12587,  1884,  9538, 29515, 17462,  1452,  1040,  4108,  1070,\n",
      "         22483,  1065,  2218,  3494,  4573,  1072,  1040,  5389,  1070,  1040,\n",
      "          1673,  1461,  7030,  1065,  1040,  3863,  5253,  1124,  1040, 22225,\n",
      "          6459, 16024, 29491,     2]], device='cuda:0')\n",
      "Decoded output:\n",
      " I am a text-based AI model and do not have the ability to experience emotions or physical sensations. I am designed to provide information and answer questions to the best of my ability.\n",
      "\n",
      "Regarding your question, there are many fun things to do in New York City. Here are some suggestions:\n",
      "\n",
      "1. Visit the Statue of Liberty and Ellis Island: Take a ferry to these iconic landmarks and learn about the history of immigration in the United States.\n",
      "2. Explore Central Park: Take a stroll through Central Park and visit the Central Park Zoo, the Bethesda Fountain, and the Strawberry Fields memorial.\n",
      "3. Visit the Metropolitan Museum of Art: One of the world's largest and most comprehensive art museums, the Met offers a vast collection of works from around the world and throughout history.\n",
      "4. Take a walk across the Brooklyn Bridge: This iconic suspension bridge offers stunning views of the Manhattan skyline and the East River.\n",
      "5. Visit Times Square: Known as the \"Crossroads of the World,\" Times Square is a bustling hub of activity with bright lights, billboards, and street performers.\n",
      "6. Take a tour of the Empire State Building: Climb to the top of this iconic skyscraper for panoramic views of the city.\n",
      "7. Visit the 9/11 Memorial and Museum: Pay your respects to the victims of the September 11 attacks and learn about the history of the World Trade Center.\n",
      "8. Take a stroll through Greenwich Village: This historic neighborhood is known for its bohemian vibe, independent shops, and vibrant nightlife.\n",
      "9. Visit the High Line: This elevated park, built on an old railway line, offers stunning views of the city and the Hudson River.\n",
      "10. Take a tour of the Tenement Museum: Learn about the history of immigration in New York City and the lives of the people who lived in the tenements on the Lower East Side.\n"
     ]
    }
   ],
   "source": [
    "\n",
    "# 4: Generate text from the model\n",
    "outputs = model.generate(**inputs, max_new_tokens=512, temperature=0.)\n",
    "print(\"Generated tokens:\\n\", outputs)\n",
    "\n",
    "# 5: Decode the output back to a string\n",
    "decoded_output = tokenizer.decode(outputs[0][inputs['input_ids'].size(1):], skip_special_tokens=True)\n",
    "print(\"Decoded output:\\n\", decoded_output)"
   ]
  },
  {
   "cell_type": "code",
   "execution_count": 1,
   "metadata": {},
   "outputs": [
    {
     "name": "stdout",
     "output_type": "stream",
     "text": [
      "INFO 05-30 22:16:37 llm_engine.py:100] Initializing an LLM engine (v0.4.2) with config: model='/data/models/hf/Mistral-7B-v0.3', speculative_config=None, tokenizer='/data/models/hf/Mistral-7B-v0.3', skip_tokenizer_init=False, tokenizer_mode=auto, revision=None, tokenizer_revision=None, trust_remote_code=False, dtype=torch.bfloat16, max_seq_len=32768, download_dir=None, load_format=LoadFormat.AUTO, tensor_parallel_size=1, disable_custom_all_reduce=False, quantization=None, enforce_eager=False, kv_cache_dtype=auto, quantization_param_path=None, device_config=cuda, decoding_config=DecodingConfig(guided_decoding_backend='outlines'), seed=0, served_model_name=/data/models/hf/Mistral-7B-v0.3)\n",
      "INFO 05-30 22:16:37 utils.py:660] Found nccl from library /home/x5fu/.config/vllm/nccl/cu12/libnccl.so.2.18.1\n",
      "INFO 05-30 22:16:38 selector.py:81] Cannot use FlashAttention-2 backend because the flash_attn package is not found. Please install it for better performance.\n",
      "INFO 05-30 22:16:38 selector.py:32] Using XFormers backend.\n",
      "INFO 05-30 22:16:41 model_runner.py:175] Loading model weights took 13.5083 GB\n",
      "INFO 05-30 22:16:44 gpu_executor.py:114] # GPU blocks: 12704, # CPU blocks: 16384\n",
      "INFO 05-30 22:16:52 model_runner.py:937] Capturing the model for CUDA graphs. This may lead to unexpected consequences if the model is not static. To run the model in eager mode, set 'enforce_eager=True' or use '--enforce-eager' in the CLI.\n",
      "INFO 05-30 22:16:52 model_runner.py:941] CUDA graphs can take additional 1~3 GiB memory per GPU. If you are running out of memory, consider decreasing `gpu_memory_utilization` or enforcing eager mode. You can also reduce the `max_num_seqs` as needed to decrease memory usage.\n",
      "INFO 05-30 22:16:56 model_runner.py:1017] Graph capturing finished in 3 secs.\n"
     ]
    }
   ],
   "source": [
    "from vllm import LLM, SamplingParams\n",
    "import os, json\n",
    "\n",
    "os.environ[\"CUDA_VISIBLE_DEVICES\"] = \"0\"\n",
    "\n",
    "llm = LLM(model=\"/data/models/hf/Mistral-7B-v0.3\", swap_space=32)\n"
   ]
  },
  {
   "cell_type": "code",
   "execution_count": 4,
   "metadata": {},
   "outputs": [
    {
     "name": "stderr",
     "output_type": "stream",
     "text": [
      "Processed prompts: 100%|██████████| 1/1 [00:00<00:00,  3.08it/s]\n"
     ]
    },
    {
     "data": {
      "text/plain": [
       "[RequestOutput(request_id=2, prompt='who are you?', prompt_token_ids=[1, 1461, 1228, 1136, 29572], prompt_logprobs=None, outputs=[CompletionOutput(index=0, text='\\nben fibbish\\n\\nwhat are you known for?:\\nbranding', token_ids=[781, 3941, 16950, 29494, 1557, 781, 781, 7570, 1228, 1136, 3419, 1122, 5162, 781, 20879, 1056], cumulative_logprob=-51.7670956812799, logprobs=None, finish_reason=length, stop_reason=None)], finished=True, metrics=RequestMetrics(arrival_time=1717133680.9156487, last_token_time=1717133680.9156487, first_scheduled_time=1717133680.9218404, first_token_time=1717133680.9752965, time_in_queue=0.006191730499267578, finished_time=1717133681.2443283), lora_request=None)]"
      ]
     },
     "execution_count": 4,
     "metadata": {},
     "output_type": "execute_result"
    }
   ],
   "source": [
    "llm.generate('who are you?')"
   ]
  }
 ],
 "metadata": {
  "kernelspec": {
   "display_name": "propane",
   "language": "python",
   "name": "python3"
  },
  "language_info": {
   "codemirror_mode": {
    "name": "ipython",
    "version": 3
   },
   "file_extension": ".py",
   "mimetype": "text/x-python",
   "name": "python",
   "nbconvert_exporter": "python",
   "pygments_lexer": "ipython3",
   "version": "3.11.9"
  }
 },
 "nbformat": 4,
 "nbformat_minor": 2
}
